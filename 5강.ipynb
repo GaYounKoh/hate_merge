{
 "cells": [
  {
   "cell_type": "markdown",
   "metadata": {},
   "source": [
    "# Sigmoid With Loss\n",
    "/common/layers.py"
   ]
  },
  {
   "cell_type": "code",
   "execution_count": 2,
   "metadata": {},
   "outputs": [],
   "source": [
    "class SigmoidWithLoss:\n",
    "    def __init__(self):\n",
    "        self.params, self.grads = [], [] # 학습해야할 파라미터가 없음.\n",
    "                                        # 그래서 그래디언트도 없음.\n",
    "                                        # 다른 코드들이랑 형태 맞춰주려고 공리스트,,,\n",
    "        self.loss = None\n",
    "        self.y = None  # sigmoid의 출력\n",
    "        self.t = None  # 정답 데이터\n",
    "\n",
    "    def forward(self, x, t): # 순전파 하려면 시그모이드 층 통과해야...\n",
    "                            # 그러려면, score 입력해야... x: score\n",
    "        self.t = t\n",
    "        self.y = 1 / (1 + np.exp(-x)) # x에 시그모이드 함수 적용시킨 것...\n",
    "\n",
    "        self.loss = cross_entropy_error(np.c_[1 - self.y, self.y], self.t)\n",
    "\n",
    "        return self.loss\n",
    "\n",
    "    def backward(self, dout=1):\n",
    "        batch_size = self.t.shape[0] # t(라벨)의 길이가 배치사이즈\n",
    "\n",
    "        dx = (self.y - self.t) * dout / batch_size # (y-t)에 흘러들어온 미분 곱하고 batch_size 로 나누기\n",
    "        return dx"
   ]
  },
  {
   "cell_type": "markdown",
   "metadata": {},
   "source": [
    "# Unigram Sampler\n",
    "/ch04/negative_sampling_layer.py"
   ]
  },
  {
   "cell_type": "code",
   "execution_count": null,
   "metadata": {},
   "outputs": [],
   "source": [
    "import collections\n",
    "class UnigramSampler: # negative samling 구현하는 클래스\n",
    "    def __init__(self, corpus, power, sample_size): # corpus: 말뭉치,\n",
    "                                                    # power: 보정작업할 때 몇 승할 건지?\n",
    "                                                    # 0에 가까울 수록 보정작업이 훨씬 드라마틱\n",
    "                                                    # sample_size: negative sampling 몇 개 할건지 (총 sample_size + 1개만큼이 뽑힘. +1: 정답)\n",
    "                                                    # \n",
    "        self.sample_size = sample_size\n",
    "        self.vocab_size = None\n",
    "        self.word_p = None\n",
    "\n",
    "        counts = collections.Counter() # 사전형식으로 value 추가하는 method\n",
    "        for word_id in corpus: # 단어들의 idx (언제 처음 등장하는지)\n",
    "            counts[word_id] += 1 # corpus 안에서 word_id가 총 몇 번 등장하는지\n",
    "                                # counts = {word_id: 등장횟수}\n",
    "                                # counts의 길이 len은 어휘의 개수\n",
    "\n",
    "        vocab_size = len(counts) # vocab_size = counts의 길이 = 어휘의 개수\n",
    "        self.vocab_size = vocab_size\n",
    "\n",
    "        self.word_p = np.zeros(vocab_size) # 어휘길이만큼 np.zeros\n",
    "        for i in range(vocab_size):\n",
    "            self.word_p[i] = counts[i] # 등장횟수를 채워줄 것\n",
    "\n",
    "        self.word_p = np.power(self.word_p, power) # 보정작업, 원소 각각에 대해 power제곱\n",
    "        self.word_p /= np.sum(self.word_p) # 각각의 원소에 대해 확률벡터 합으로 나눠주겠다. (normalize)\n",
    "\n",
    "    def get_negative_sample(self, target): # target: contest에 의해 결정될 것.\n",
    "        batch_size = target.shape[0]\n",
    "\n",
    "        if not GPU: # gpu 사용 안할 때...\n",
    "            negative_sample = np.zeros((batch_size, self.sample_size), dtype=np.int32) # zero 행렬을 만들어서\n",
    "                                                    # 1번째 context에 대한 negative sample, 2번째 ~~~, 3번째 ~~~...\n",
    "\n",
    "            for i in range(batch_size):\n",
    "                p = self.word_p.copy()\n",
    "                target_idx = target[i]\n",
    "                p[target_idx] = 0\n",
    "                p /= p.sum()\n",
    "                negative_sample[i, :] = np.random.choice(self.vocab_size, size=self.sample_size, replace=False, p=p) # random choice, replace = 린e: 비복원추출.\n",
    "        else:\n",
    "            # GPU(cupy）로 계산할 때는 속도를 우선한다.\n",
    "            # 부정적 예에 타깃이 포함될 수 있다.\n",
    "            negative_sample = np.random.choice(self.vocab_size, size=(batch_size, self.sample_size),\n",
    "                                               replace=True, p=self.word_p)\n",
    "                                               # random choice, replace = True: 중복해서 뽑아도 돼.\n",
    "\n",
    "        return negative_sample"
   ]
  },
  {
   "cell_type": "markdown",
   "metadata": {},
   "source": [
    "# NegativeSamplingLoss\n",
    "/ch04/negative_sampling_layer.py"
   ]
  },
  {
   "cell_type": "code",
   "execution_count": null,
   "metadata": {},
   "outputs": [],
   "source": [
    "class NegativeSamplingLoss:\n",
    "    def __init__(self, W, corpus, power=0.75, sample_size=5):\n",
    "        self.sample_size = sample_size\n",
    "        self.sampler = UnigramSampler(corpus, power, sample_size)\n",
    "        self.loss_layers = [SigmoidWithLoss() for _ in range(sample_size + 1)] # 오답개수 +1(정답)\n",
    "        self.embed_dot_layers = [EmbeddingDot(W) for _ in range(sample_size + 1)]\n",
    "\n",
    "        self.params, self.grads = [], []\n",
    "        for layer in self.embed_dot_layers:\n",
    "            self.params += layer.params\n",
    "            self.grads += layer.grads\n",
    "\n",
    "    def forward(self, h, target):\n",
    "        batch_size = target.shape[0]\n",
    "        negative_sample = self.sampler.get_negative_sample(target)\n",
    "\n",
    "        # 긍정적 예 순전파\n",
    "        score = self.embed_dot_layers[0].forward(h, target)\n",
    "        correct_label = np.ones(batch_size, dtype=np.int32)\n",
    "        loss = self.loss_layers[0].forward(score, correct_label)\n",
    "\n",
    "        # 부정적 예 순전파\n",
    "        negative_label = np.zeros(batch_size, dtype=np.int32)\n",
    "        for i in range(self.sample_size):\n",
    "            negative_target = negative_sample[:, i]\n",
    "            score = self.embed_dot_layers[1 + i].forward(h, negative_target)\n",
    "            loss += self.loss_layers[1 + i].forward(score, negative_label)\n",
    "\n",
    "        return loss\n",
    "\n",
    "    def backward(self, dout=1):\n",
    "        dh = 0\n",
    "        for l0, l1 in zip(self.loss_layers, self.embed_dot_layers):\n",
    "            dscore = l0.backward(dout)\n",
    "            dh += l1.backward(dscore)\n",
    "\n",
    "        return dh\n"
   ]
  }
 ],
 "metadata": {
  "interpreter": {
   "hash": "e4cfef919f511c0e3a05919ed86dab4fa959f970f2723dae87eeb918be14f5f0"
  },
  "kernelspec": {
   "display_name": "Python 3.8.8 ('base')",
   "language": "python",
   "name": "python3"
  },
  "language_info": {
   "codemirror_mode": {
    "name": "ipython",
    "version": 3
   },
   "file_extension": ".py",
   "mimetype": "text/x-python",
   "name": "python",
   "nbconvert_exporter": "python",
   "pygments_lexer": "ipython3",
   "version": "3.8.8"
  },
  "orig_nbformat": 4
 },
 "nbformat": 4,
 "nbformat_minor": 2
}
